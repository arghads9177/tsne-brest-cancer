{
 "cells": [
  {
   "cell_type": "markdown",
   "id": "f43bd0ed-c9b3-48b3-916c-2cd349f1b2e0",
   "metadata": {},
   "source": [
    "# t-SNE of Breast Cancer Data\n",
    "\n",
    "## About the Dataset\n",
    "\n",
    "This project uses the GSE45827 dataset from the Curated Microarray Database (CuMiDa), which contains breast cancer gene expression data. The dataset includes:\n",
    "\n",
    "- **6 Classes**: Different types of breast cancer and healthy tissue.\n",
    "- **54,676 Genes**: Gene expression levels measured across samples.\n",
    "- **151 Samples**: Each row represents a sample, and each column represents a gene.\n",
    "\n",
    "### Dataset Source\n",
    "\n",
    "CuMiDa is a carefully curated repository containing 78 cancer microarray datasets specifically designed for machine learning research. These datasets have been selected from over 30,000 studies in the Gene Expression Omnibus (GEO) and have undergone extensive biological preprocessing, including background correction and normalization, to ensure data reliability.\n",
    "\n",
    "The GSE45827 dataset, like others in CuMiDa, is intended to serve as a reliable source for computational research, providing preprocessed data along with benchmark results for machine learning studies in cancer research. The dataset is available in various formats, including CSV, TAB, and ARFF, and also includes PCA and t-SNE results.\n",
    "\n",
    "More details and the dataset are available at the official CuMiDa website under the ID GSE45827: [CuMiDa - GSE45827](http://sbcb.inf.ufrgs.br/cumida).\n",
    "\n",
    "## Project Overview\n",
    "\n",
    "This project focuses on applying t-SNE (t-distributed Stochastic Neighbor Embedding), a machine learning technique for dimensionality reduction, to visualize the gene expression data from the GSE45827 dataset. The goal is to represent the high-dimensional gene expression data in a 2D space, making it easier to observe patterns and similarities between different types of breast cancer.\n",
    "\n",
    "## Source\n",
    "\n",
    "This dataset is available on Kaggle in the following link:\n",
    "> https://www.kaggle.com/datasets/brunogrisci/breast-cancer-gene-expression-cumida/data\n",
    "\n",
    "\n",
    "## Data Dictionary\n",
    "\n",
    "- **samples**: This is the unique ID of each sample. This is numeric.\n",
    "- **type**: This is the type of breast cancer. It contanins 5 types of cancer and *normal* represents the healthy tissue. This is categorical.\n",
    "- **1007_s_at** to **AFFX-TrpnX-M_at**: These features represent genes expression levels measured across each sample. These are numeric.\n",
    "\n",
    "## Problem Statement\n",
    "\n",
    "1. **Exploratory Data Analysis(EDA)**: The objective of EDA is to analyze the data, uncover patterns and relationships among the features to detect the calss or type of breast cancer.\n",
    "2. **t-SNE**: It reduces the dimension of the dataset and visualize each type of cancer efficiently as the dataset is very high dimensional."
   ]
  },
  {
   "cell_type": "markdown",
   "id": "cb9d5cd8-e8cd-44cf-ab92-baea17b0bac6",
   "metadata": {},
   "source": [
    "### Load Libraries"
   ]
  },
  {
   "cell_type": "code",
   "execution_count": 1,
   "id": "c9097ab3-096d-420c-add4-41f79552b2d6",
   "metadata": {},
   "outputs": [],
   "source": [
    "# General\n",
    "import pandas as pd\n",
    "import numpy as np\n",
    "import matplotlib.pyplot as plt\n",
    "import seaborn as sns\n",
    "import os\n",
    "import warnings\n",
    "\n",
    "# Other\n",
    "from sklearn.manifold import TSNE"
   ]
  },
  {
   "cell_type": "markdown",
   "id": "ed73a54a-35a3-4a20-9eff-81f6e25f22bb",
   "metadata": {},
   "source": [
    "### Settings"
   ]
  },
  {
   "cell_type": "code",
   "execution_count": 2,
   "id": "c7ce61f8-2c04-4b23-a3ca-f20a155f0ae6",
   "metadata": {},
   "outputs": [],
   "source": [
    "# Warning\n",
    "warnings.filterwarnings(\"ignore\")\n",
    "\n",
    "# Plotting\n",
    "sns.set_style(\"darkgrid\")\n",
    "\n",
    "# Path\n",
    "data_path = \"../data\"\n",
    "csv_path = os.path.join(data_path, \"Breast_GSE45827.csv\")"
   ]
  },
  {
   "cell_type": "markdown",
   "id": "dcdf5017-a890-4508-b758-ffe65f6d9dcb",
   "metadata": {},
   "source": [
    "### Load Data"
   ]
  },
  {
   "cell_type": "code",
   "execution_count": 3,
   "id": "99a7f3e5-52a0-43af-b216-b659692faec1",
   "metadata": {},
   "outputs": [],
   "source": [
    "df = pd.read_csv(csv_path)"
   ]
  },
  {
   "cell_type": "markdown",
   "id": "8d780c7a-7d15-49eb-82ac-9557b5dc70d1",
   "metadata": {},
   "source": [
    "### General Information"
   ]
  },
  {
   "cell_type": "code",
   "execution_count": 4,
   "id": "7967b544-cc68-4c11-b299-cd93b1e411ac",
   "metadata": {},
   "outputs": [
    {
     "data": {
      "text/html": [
       "<div>\n",
       "<style scoped>\n",
       "    .dataframe tbody tr th:only-of-type {\n",
       "        vertical-align: middle;\n",
       "    }\n",
       "\n",
       "    .dataframe tbody tr th {\n",
       "        vertical-align: top;\n",
       "    }\n",
       "\n",
       "    .dataframe thead th {\n",
       "        text-align: right;\n",
       "    }\n",
       "</style>\n",
       "<table border=\"1\" class=\"dataframe\">\n",
       "  <thead>\n",
       "    <tr style=\"text-align: right;\">\n",
       "      <th></th>\n",
       "      <th>samples</th>\n",
       "      <th>type</th>\n",
       "      <th>1007_s_at</th>\n",
       "      <th>1053_at</th>\n",
       "      <th>117_at</th>\n",
       "      <th>121_at</th>\n",
       "      <th>1255_g_at</th>\n",
       "      <th>1294_at</th>\n",
       "      <th>1316_at</th>\n",
       "      <th>1320_at</th>\n",
       "      <th>...</th>\n",
       "      <th>AFFX-r2-Ec-bioD-3_at</th>\n",
       "      <th>AFFX-r2-Ec-bioD-5_at</th>\n",
       "      <th>AFFX-r2-P1-cre-3_at</th>\n",
       "      <th>AFFX-r2-P1-cre-5_at</th>\n",
       "      <th>AFFX-ThrX-3_at</th>\n",
       "      <th>AFFX-ThrX-5_at</th>\n",
       "      <th>AFFX-ThrX-M_at</th>\n",
       "      <th>AFFX-TrpnX-3_at</th>\n",
       "      <th>AFFX-TrpnX-5_at</th>\n",
       "      <th>AFFX-TrpnX-M_at</th>\n",
       "    </tr>\n",
       "  </thead>\n",
       "  <tbody>\n",
       "    <tr>\n",
       "      <th>0</th>\n",
       "      <td>84</td>\n",
       "      <td>basal</td>\n",
       "      <td>9.850040</td>\n",
       "      <td>8.097927</td>\n",
       "      <td>6.424728</td>\n",
       "      <td>7.353027</td>\n",
       "      <td>3.029122</td>\n",
       "      <td>6.880079</td>\n",
       "      <td>4.963740</td>\n",
       "      <td>4.408328</td>\n",
       "      <td>...</td>\n",
       "      <td>12.229711</td>\n",
       "      <td>11.852955</td>\n",
       "      <td>13.658701</td>\n",
       "      <td>13.477698</td>\n",
       "      <td>6.265781</td>\n",
       "      <td>5.016196</td>\n",
       "      <td>4.901594</td>\n",
       "      <td>2.966657</td>\n",
       "      <td>3.508495</td>\n",
       "      <td>3.301999</td>\n",
       "    </tr>\n",
       "    <tr>\n",
       "      <th>1</th>\n",
       "      <td>85</td>\n",
       "      <td>basal</td>\n",
       "      <td>9.861357</td>\n",
       "      <td>8.212222</td>\n",
       "      <td>7.062593</td>\n",
       "      <td>7.685578</td>\n",
       "      <td>3.149468</td>\n",
       "      <td>7.542283</td>\n",
       "      <td>5.129607</td>\n",
       "      <td>4.584418</td>\n",
       "      <td>...</td>\n",
       "      <td>12.178531</td>\n",
       "      <td>11.809408</td>\n",
       "      <td>13.750086</td>\n",
       "      <td>13.470146</td>\n",
       "      <td>6.771853</td>\n",
       "      <td>5.291005</td>\n",
       "      <td>5.405839</td>\n",
       "      <td>2.934763</td>\n",
       "      <td>3.687666</td>\n",
       "      <td>3.064299</td>\n",
       "    </tr>\n",
       "    <tr>\n",
       "      <th>2</th>\n",
       "      <td>87</td>\n",
       "      <td>basal</td>\n",
       "      <td>10.103478</td>\n",
       "      <td>8.936137</td>\n",
       "      <td>5.735970</td>\n",
       "      <td>7.687822</td>\n",
       "      <td>3.125931</td>\n",
       "      <td>6.562369</td>\n",
       "      <td>4.813449</td>\n",
       "      <td>4.425195</td>\n",
       "      <td>...</td>\n",
       "      <td>12.125108</td>\n",
       "      <td>11.725766</td>\n",
       "      <td>13.621732</td>\n",
       "      <td>13.295080</td>\n",
       "      <td>6.346952</td>\n",
       "      <td>5.171403</td>\n",
       "      <td>5.184286</td>\n",
       "      <td>2.847684</td>\n",
       "      <td>3.550597</td>\n",
       "      <td>3.158535</td>\n",
       "    </tr>\n",
       "    <tr>\n",
       "      <th>3</th>\n",
       "      <td>90</td>\n",
       "      <td>basal</td>\n",
       "      <td>9.756875</td>\n",
       "      <td>7.357148</td>\n",
       "      <td>6.479183</td>\n",
       "      <td>6.986624</td>\n",
       "      <td>3.181638</td>\n",
       "      <td>7.802344</td>\n",
       "      <td>5.490982</td>\n",
       "      <td>4.567956</td>\n",
       "      <td>...</td>\n",
       "      <td>12.111235</td>\n",
       "      <td>11.719215</td>\n",
       "      <td>13.743108</td>\n",
       "      <td>13.508861</td>\n",
       "      <td>6.610284</td>\n",
       "      <td>5.193356</td>\n",
       "      <td>5.086569</td>\n",
       "      <td>3.031602</td>\n",
       "      <td>3.524981</td>\n",
       "      <td>3.272665</td>\n",
       "    </tr>\n",
       "    <tr>\n",
       "      <th>4</th>\n",
       "      <td>91</td>\n",
       "      <td>basal</td>\n",
       "      <td>9.408330</td>\n",
       "      <td>7.746404</td>\n",
       "      <td>6.693980</td>\n",
       "      <td>7.333426</td>\n",
       "      <td>3.169923</td>\n",
       "      <td>7.610457</td>\n",
       "      <td>5.372469</td>\n",
       "      <td>4.424426</td>\n",
       "      <td>...</td>\n",
       "      <td>12.173642</td>\n",
       "      <td>11.861296</td>\n",
       "      <td>13.797774</td>\n",
       "      <td>13.542206</td>\n",
       "      <td>6.414354</td>\n",
       "      <td>5.040202</td>\n",
       "      <td>5.235318</td>\n",
       "      <td>2.956232</td>\n",
       "      <td>3.445501</td>\n",
       "      <td>3.193947</td>\n",
       "    </tr>\n",
       "  </tbody>\n",
       "</table>\n",
       "<p>5 rows × 54677 columns</p>\n",
       "</div>"
      ],
      "text/plain": [
       "   samples   type  1007_s_at   1053_at    117_at    121_at  1255_g_at  \\\n",
       "0       84  basal   9.850040  8.097927  6.424728  7.353027   3.029122   \n",
       "1       85  basal   9.861357  8.212222  7.062593  7.685578   3.149468   \n",
       "2       87  basal  10.103478  8.936137  5.735970  7.687822   3.125931   \n",
       "3       90  basal   9.756875  7.357148  6.479183  6.986624   3.181638   \n",
       "4       91  basal   9.408330  7.746404  6.693980  7.333426   3.169923   \n",
       "\n",
       "    1294_at   1316_at   1320_at  ...  AFFX-r2-Ec-bioD-3_at  \\\n",
       "0  6.880079  4.963740  4.408328  ...             12.229711   \n",
       "1  7.542283  5.129607  4.584418  ...             12.178531   \n",
       "2  6.562369  4.813449  4.425195  ...             12.125108   \n",
       "3  7.802344  5.490982  4.567956  ...             12.111235   \n",
       "4  7.610457  5.372469  4.424426  ...             12.173642   \n",
       "\n",
       "   AFFX-r2-Ec-bioD-5_at  AFFX-r2-P1-cre-3_at  AFFX-r2-P1-cre-5_at  \\\n",
       "0             11.852955            13.658701            13.477698   \n",
       "1             11.809408            13.750086            13.470146   \n",
       "2             11.725766            13.621732            13.295080   \n",
       "3             11.719215            13.743108            13.508861   \n",
       "4             11.861296            13.797774            13.542206   \n",
       "\n",
       "   AFFX-ThrX-3_at  AFFX-ThrX-5_at  AFFX-ThrX-M_at  AFFX-TrpnX-3_at  \\\n",
       "0        6.265781        5.016196        4.901594         2.966657   \n",
       "1        6.771853        5.291005        5.405839         2.934763   \n",
       "2        6.346952        5.171403        5.184286         2.847684   \n",
       "3        6.610284        5.193356        5.086569         3.031602   \n",
       "4        6.414354        5.040202        5.235318         2.956232   \n",
       "\n",
       "   AFFX-TrpnX-5_at  AFFX-TrpnX-M_at  \n",
       "0         3.508495         3.301999  \n",
       "1         3.687666         3.064299  \n",
       "2         3.550597         3.158535  \n",
       "3         3.524981         3.272665  \n",
       "4         3.445501         3.193947  \n",
       "\n",
       "[5 rows x 54677 columns]"
      ]
     },
     "execution_count": 4,
     "metadata": {},
     "output_type": "execute_result"
    }
   ],
   "source": [
    "# Show 1st 5 rows of dataset to get an idea about the data stored in each attribute\n",
    "df.head()"
   ]
  },
  {
   "cell_type": "code",
   "execution_count": 5,
   "id": "3af744b7-73b1-4c9f-baf0-0708d8505005",
   "metadata": {},
   "outputs": [
    {
     "name": "stdout",
     "output_type": "stream",
     "text": [
      "============================================================\n",
      "DATA DESCRIPTION\n",
      "============================================================\n",
      "Number of observations: 151\n",
      "Number of features: 54677\n"
     ]
    }
   ],
   "source": [
    "# Data Description\n",
    "print(\"=\" * 60)\n",
    "print(\"DATA DESCRIPTION\")\n",
    "print(\"=\" * 60)\n",
    "print(f\"Number of observations: {df.shape[0]}\")\n",
    "print(f\"Number of features: {df.shape[1]}\")"
   ]
  },
  {
   "cell_type": "code",
   "execution_count": 7,
   "id": "b7307fe6-78d6-4fbd-a2f5-20b898a788fe",
   "metadata": {},
   "outputs": [
    {
     "name": "stdout",
     "output_type": "stream",
     "text": [
      "============================================================\n",
      "FEATURE DESCRIPTION\n",
      "============================================================\n",
      "samples              int64\n",
      "type                object\n",
      "1007_s_at          float64\n",
      "1053_at            float64\n",
      "117_at             float64\n",
      "                    ...   \n",
      "AFFX-ThrX-5_at     float64\n",
      "AFFX-ThrX-M_at     float64\n",
      "AFFX-TrpnX-3_at    float64\n",
      "AFFX-TrpnX-5_at    float64\n",
      "AFFX-TrpnX-M_at    float64\n",
      "Length: 54677, dtype: object\n",
      "------------------------------------------------------------\n",
      "Number of categorical features: 1\n",
      "Number of numerical features: 54676\n"
     ]
    }
   ],
   "source": [
    "# Feature Description\n",
    "print(\"=\" * 60)\n",
    "print(\"FEATURE DESCRIPTION\")\n",
    "print(\"=\" * 60)\n",
    "print(df.dtypes)\n",
    "print(\"-\" * 60)\n",
    "cat_cols = [col for col in df.columns if df[col].dtype == \"object\"]\n",
    "num_cols = [col for col in df.columns if df[col].dtype != \"object\"]\n",
    "print(f\"Number of categorical features: {len(cat_cols)}\")\n",
    "print(f\"Number of numerical features: {len(num_cols)}\")"
   ]
  },
  {
   "cell_type": "code",
   "execution_count": 8,
   "id": "968fb5f4-aaf3-4d8c-a3f9-86441bb24e8b",
   "metadata": {},
   "outputs": [
    {
     "name": "stdout",
     "output_type": "stream",
     "text": [
      "============================================================\n",
      "MISSING VALUE DETECTION\n",
      "============================================================\n",
      "No missing value present in any feature of these observations.\n"
     ]
    }
   ],
   "source": [
    "# Missing value detection\n",
    "print(\"=\" * 60)\n",
    "print(\"MISSING VALUE DETECTION\")\n",
    "print(\"=\" * 60)\n",
    "if df.isnull().sum().sum() > 0:\n",
    "    print(df.isnull().sum())\n",
    "else:\n",
    "    print(\"No missing value present in any feature of these observations.\")"
   ]
  },
  {
   "cell_type": "code",
   "execution_count": 9,
   "id": "be7055f5-9d84-4982-9f0a-21463cf840ed",
   "metadata": {},
   "outputs": [
    {
     "name": "stdout",
     "output_type": "stream",
     "text": [
      "============================================================\n",
      "DUPLICATE ROW DETECTION\n",
      "============================================================\n",
      "Number of duplicate rows: 0\n"
     ]
    }
   ],
   "source": [
    "# Duplicate row detection\n",
    "print(\"=\" * 60)\n",
    "print(\"DUPLICATE ROW DETECTION\")\n",
    "print(\"=\" * 60)\n",
    "print(f\"Number of duplicate rows: {df.duplicated().sum()}\")"
   ]
  },
  {
   "cell_type": "code",
   "execution_count": null,
   "id": "e0ad3cde-836d-4e82-b994-74574067e7ee",
   "metadata": {},
   "outputs": [],
   "source": []
  }
 ],
 "metadata": {
  "kernelspec": {
   "display_name": "Python 3 (ipykernel)",
   "language": "python",
   "name": "python3"
  },
  "language_info": {
   "codemirror_mode": {
    "name": "ipython",
    "version": 3
   },
   "file_extension": ".py",
   "mimetype": "text/x-python",
   "name": "python",
   "nbconvert_exporter": "python",
   "pygments_lexer": "ipython3",
   "version": "3.11.9"
  }
 },
 "nbformat": 4,
 "nbformat_minor": 5
}
